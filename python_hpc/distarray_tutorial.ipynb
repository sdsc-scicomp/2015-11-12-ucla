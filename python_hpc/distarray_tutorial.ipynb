{
 "cells": [
  {
   "cell_type": "code",
   "execution_count": 1,
   "metadata": {
    "collapsed": true
   },
   "outputs": [],
   "source": [
    "from distarray.apps import dacluster"
   ]
  },
  {
   "cell_type": "code",
   "execution_count": 2,
   "metadata": {
    "collapsed": false
   },
   "outputs": [
    {
     "name": "stdout",
     "output_type": "stream",
     "text": [
      "2015-11-10 21:29:42.741 [IPClusterStart] Starting ipcluster with [daemon=False]\n",
      "2015-11-10 21:29:42.745 [IPClusterStart] Creating pid file: /home/zonca/.ipython/profile_default/pid/ipcluster.pid\n",
      "2015-11-10 21:29:42.749 [IPClusterStart] Starting Controller with LocalControllerLauncher\n",
      "2015-11-10 21:29:43.752 [IPClusterStart] Starting 24 Engines with PBSEngineSetLauncher\n",
      "2015-11-10 21:29:44.805 [IPClusterStart] Job submitted with job id: u'1259819'\n",
      "2015-11-10 21:31:14.806 [IPClusterStart] Engines appear to have started successfully\n"
     ]
    }
   ],
   "source": [
    "dacluster.start(24, \"--engines=PBSEngineSetLauncher\")"
   ]
  },
  {
   "cell_type": "code",
   "execution_count": 24,
   "metadata": {
    "collapsed": false
   },
   "outputs": [],
   "source": [
    "# some utility imports\n",
    "from __future__ import print_function\n",
    "from pprint import pprint\n",
    "from matplotlib import pyplot as plt\n",
    "\n",
    "# main imports\n",
    "import numpy as np\n",
    "import distarray.globalapi as da\n",
    "\n",
    "# reduce precision on printed array values\n",
    "np.set_printoptions(precision=2)\n",
    "\n",
    "# display figures inline\n",
    "%matplotlib inline"
   ]
  },
  {
   "cell_type": "code",
   "execution_count": 20,
   "metadata": {
    "collapsed": false
   },
   "outputs": [
    {
     "data": {
      "text/plain": [
       "array([[ 0.87,  0.01,  0.72,  0.93,  0.87],\n",
       "       [ 0.02,  0.29,  0.55,  0.37,  0.25],\n",
       "       [ 0.37,  0.31,  0.54,  0.12,  0.2 ],\n",
       "       [ 0.53,  0.9 ,  0.15,  0.44,  0.46],\n",
       "       [ 0.67,  0.52,  0.21,  0.61,  0.14],\n",
       "       [ 0.64,  0.26,  0.25,  0.02,  0.1 ],\n",
       "       [ 0.61,  0.88,  0.23,  0.48,  0.05],\n",
       "       [ 0.98,  0.87,  0.38,  0.56,  0.76],\n",
       "       [ 0.4 ,  0.45,  0.33,  0.8 ,  0.86],\n",
       "       [ 0.07,  0.25,  0.73,  0.35,  0.92],\n",
       "       [ 0.34,  0.39,  0.1 ,  0.87,  0.23],\n",
       "       [ 0.46,  0.75,  0.83,  0.32,  0.17],\n",
       "       [ 0.06,  0.86,  0.5 ,  0.5 ,  0.78],\n",
       "       [ 0.19,  0.76,  0.63,  0.42,  0.88],\n",
       "       [ 0.21,  0.06,  0.03,  0.13,  0.37],\n",
       "       [ 0.49,  0.46,  0.62,  0.8 ,  0.59],\n",
       "       [ 0.55,  0.57,  0.67,  0.73,  0.05],\n",
       "       [ 0.61,  0.9 ,  0.12,  0.86,  0.91],\n",
       "       [ 0.24,  0.19,  0.54,  0.83,  0.93],\n",
       "       [ 0.68,  0.92,  0.37,  0.67,  0.59],\n",
       "       [ 0.48,  0.82,  0.51,  0.51,  0.17],\n",
       "       [ 0.87,  0.61,  0.16,  0.86,  0.65],\n",
       "       [ 0.69,  0.57,  0.89,  0.78,  0.77],\n",
       "       [ 0.14,  0.38,  0.74,  0.29,  0.43]])"
      ]
     },
     "execution_count": 20,
     "metadata": {},
     "output_type": "execute_result"
    }
   ],
   "source": [
    "# a 4-row 5-column NumPy array with random contents\n",
    "nparr = np.random.rand(24, 5)\n",
    "nparr"
   ]
  },
  {
   "cell_type": "code",
   "execution_count": 21,
   "metadata": {
    "collapsed": true
   },
   "outputs": [],
   "source": [
    "from distarray.globalapi import Context\n",
    "context = Context()"
   ]
  },
  {
   "cell_type": "code",
   "execution_count": 22,
   "metadata": {
    "collapsed": false
   },
   "outputs": [
    {
     "data": {
      "text/plain": [
       "<DistArray(shape=(24, 5), targets=[0, 1, 2, 3, 4, 5, 6, 7, 8, 9, 10, 11, 12, 13, 14, 15, 16, 17, 18, 19, 20, 21, 22, 23])>"
      ]
     },
     "execution_count": 22,
     "metadata": {},
     "output_type": "execute_result"
    }
   ],
   "source": [
    "# Make a DistArray from a NumPy array.\n",
    "# This will push sections of the original NumPy array out\n",
    "# to the engines.\n",
    "darr = context.fromarray(nparr)\n",
    "darr"
   ]
  },
  {
   "cell_type": "code",
   "execution_count": 23,
   "metadata": {
    "collapsed": false
   },
   "outputs": [
    {
     "name": "stdout",
     "output_type": "stream",
     "text": [
      "0 [[ 0.87  0.01  0.72  0.93  0.87]]\n",
      "1 [[ 0.02  0.29  0.55  0.37  0.25]]\n",
      "2 [[ 0.37  0.31  0.54  0.12  0.2 ]]\n",
      "3 [[ 0.53  0.9   0.15  0.44  0.46]]\n",
      "4 [[ 0.67  0.52  0.21  0.61  0.14]]\n",
      "5 [[ 0.64  0.26  0.25  0.02  0.1 ]]\n",
      "6 [[ 0.61  0.88  0.23  0.48  0.05]]\n",
      "7 [[ 0.98  0.87  0.38  0.56  0.76]]\n",
      "8 [[ 0.4   0.45  0.33  0.8   0.86]]\n",
      "9 [[ 0.07  0.25  0.73  0.35  0.92]]\n",
      "10 [[ 0.34  0.39  0.1   0.87  0.23]]\n",
      "11 [[ 0.46  0.75  0.83  0.32  0.17]]\n",
      "12 [[ 0.06  0.86  0.5   0.5   0.78]]\n",
      "13 [[ 0.19  0.76  0.63  0.42  0.88]]\n",
      "14 [[ 0.21  0.06  0.03  0.13  0.37]]\n",
      "15 [[ 0.49  0.46  0.62  0.8   0.59]]\n",
      "16 [[ 0.55  0.57  0.67  0.73  0.05]]\n",
      "17 [[ 0.61  0.9   0.12  0.86  0.91]]\n",
      "18 [[ 0.24  0.19  0.54  0.83  0.93]]\n",
      "19 [[ 0.68  0.92  0.37  0.67  0.59]]\n",
      "20 [[ 0.48  0.82  0.51  0.51  0.17]]\n",
      "21 [[ 0.87  0.61  0.16  0.86  0.65]]\n",
      "22 [[ 0.69  0.57  0.89  0.78  0.77]]\n",
      "23 [[ 0.14  0.38  0.74  0.29  0.43]]\n"
     ]
    }
   ],
   "source": [
    "# Print the array section stored on each engine\n",
    "for i, a in enumerate(darr.get_localarrays()):\n",
    "    print(i, a)"
   ]
  },
  {
   "cell_type": "markdown",
   "metadata": {},
   "source": [
    "# Distributed array functions"
   ]
  },
  {
   "cell_type": "code",
   "execution_count": 25,
   "metadata": {
    "collapsed": false
   },
   "outputs": [
    {
     "data": {
      "text/plain": [
       "array([[ 0.76,  0.01,  0.66,  0.8 ,  0.77],\n",
       "       [ 0.02,  0.29,  0.53,  0.36,  0.24],\n",
       "       [ 0.36,  0.3 ,  0.51,  0.12,  0.2 ],\n",
       "       [ 0.5 ,  0.78,  0.15,  0.43,  0.44],\n",
       "       [ 0.62,  0.5 ,  0.21,  0.57,  0.14],\n",
       "       [ 0.59,  0.26,  0.25,  0.02,  0.1 ],\n",
       "       [ 0.57,  0.77,  0.23,  0.46,  0.05],\n",
       "       [ 0.83,  0.77,  0.37,  0.53,  0.69],\n",
       "       [ 0.39,  0.44,  0.32,  0.72,  0.76],\n",
       "       [ 0.07,  0.25,  0.67,  0.35,  0.8 ],\n",
       "       [ 0.34,  0.38,  0.1 ,  0.76,  0.23],\n",
       "       [ 0.44,  0.68,  0.74,  0.31,  0.17],\n",
       "       [ 0.06,  0.76,  0.48,  0.48,  0.7 ],\n",
       "       [ 0.19,  0.69,  0.59,  0.41,  0.77],\n",
       "       [ 0.21,  0.06,  0.03,  0.13,  0.36],\n",
       "       [ 0.47,  0.44,  0.58,  0.72,  0.55],\n",
       "       [ 0.52,  0.54,  0.62,  0.67,  0.05],\n",
       "       [ 0.57,  0.78,  0.12,  0.76,  0.79],\n",
       "       [ 0.24,  0.19,  0.51,  0.74,  0.8 ],\n",
       "       [ 0.63,  0.79,  0.36,  0.62,  0.56],\n",
       "       [ 0.46,  0.73,  0.49,  0.49,  0.17],\n",
       "       [ 0.77,  0.57,  0.16,  0.76,  0.61],\n",
       "       [ 0.64,  0.54,  0.78,  0.71,  0.7 ],\n",
       "       [ 0.14,  0.37,  0.68,  0.29,  0.42]])"
      ]
     },
     "execution_count": 25,
     "metadata": {},
     "output_type": "execute_result"
    }
   ],
   "source": [
    "# NumPy provides `ufuncs`, or Universal Functions, that operate\n",
    "# elementwise over NumPy arrays.\n",
    "np.sin(nparr)"
   ]
  },
  {
   "cell_type": "code",
   "execution_count": 26,
   "metadata": {
    "collapsed": false
   },
   "outputs": [
    {
     "data": {
      "text/plain": [
       "<DistArray(shape=(24, 5), targets=[0, 1, 2, 3, 4, 5, 6, 7, 8, 9, 10, 11, 12, 13, 14, 15, 16, 17, 18, 19, 20, 21, 22, 23])>"
      ]
     },
     "execution_count": 26,
     "metadata": {},
     "output_type": "execute_result"
    }
   ],
   "source": [
    "# DistArray provides ufuncs as well, for `DistArray`s.\n",
    "import distarray.globalapi as da\n",
    "da.sin(darr)"
   ]
  },
  {
   "cell_type": "code",
   "execution_count": 27,
   "metadata": {
    "collapsed": false
   },
   "outputs": [
    {
     "data": {
      "text/plain": [
       "array([[ 0.76,  0.01,  0.66,  0.8 ,  0.77],\n",
       "       [ 0.02,  0.29,  0.53,  0.36,  0.24],\n",
       "       [ 0.36,  0.3 ,  0.51,  0.12,  0.2 ],\n",
       "       [ 0.5 ,  0.78,  0.15,  0.43,  0.44],\n",
       "       [ 0.62,  0.5 ,  0.21,  0.57,  0.14],\n",
       "       [ 0.59,  0.26,  0.25,  0.02,  0.1 ],\n",
       "       [ 0.57,  0.77,  0.23,  0.46,  0.05],\n",
       "       [ 0.83,  0.77,  0.37,  0.53,  0.69],\n",
       "       [ 0.39,  0.44,  0.32,  0.72,  0.76],\n",
       "       [ 0.07,  0.25,  0.67,  0.35,  0.8 ],\n",
       "       [ 0.34,  0.38,  0.1 ,  0.76,  0.23],\n",
       "       [ 0.44,  0.68,  0.74,  0.31,  0.17],\n",
       "       [ 0.06,  0.76,  0.48,  0.48,  0.7 ],\n",
       "       [ 0.19,  0.69,  0.59,  0.41,  0.77],\n",
       "       [ 0.21,  0.06,  0.03,  0.13,  0.36],\n",
       "       [ 0.47,  0.44,  0.58,  0.72,  0.55],\n",
       "       [ 0.52,  0.54,  0.62,  0.67,  0.05],\n",
       "       [ 0.57,  0.78,  0.12,  0.76,  0.79],\n",
       "       [ 0.24,  0.19,  0.51,  0.74,  0.8 ],\n",
       "       [ 0.63,  0.79,  0.36,  0.62,  0.56],\n",
       "       [ 0.46,  0.73,  0.49,  0.49,  0.17],\n",
       "       [ 0.77,  0.57,  0.16,  0.76,  0.61],\n",
       "       [ 0.64,  0.54,  0.78,  0.71,  0.7 ],\n",
       "       [ 0.14,  0.37,  0.68,  0.29,  0.42]])"
      ]
     },
     "execution_count": 27,
     "metadata": {},
     "output_type": "execute_result"
    }
   ],
   "source": [
    "# `toarray` makes a NumPy array out of a DistArray, pulling all of the\n",
    "# pieces back to the client.  We do this to display the contents of the\n",
    "# DistArray.\n",
    "da.sin(darr).toarray()"
   ]
  },
  {
   "cell_type": "code",
   "execution_count": 28,
   "metadata": {
    "collapsed": false
   },
   "outputs": [
    {
     "data": {
      "text/plain": [
       "array([[ 1.74,  0.01,  1.45,  1.85,  1.74],\n",
       "       [ 0.04,  0.59,  1.11,  0.75,  0.49],\n",
       "       [ 0.74,  0.62,  1.08,  0.23,  0.39],\n",
       "       [ 1.05,  1.8 ,  0.31,  0.88,  0.92],\n",
       "       [ 1.33,  1.04,  0.42,  1.22,  0.29],\n",
       "       [ 1.27,  0.52,  0.51,  0.04,  0.19],\n",
       "       [ 1.22,  1.75,  0.46,  0.95,  0.1 ],\n",
       "       [ 1.95,  1.74,  0.76,  1.11,  1.53],\n",
       "       [ 0.79,  0.91,  0.65,  1.6 ,  1.72],\n",
       "       [ 0.14,  0.51,  1.47,  0.71,  1.84],\n",
       "       [ 0.68,  0.79,  0.2 ,  1.74,  0.46],\n",
       "       [ 0.91,  1.49,  1.66,  0.63,  0.34],\n",
       "       [ 0.13,  1.72,  1.  ,  1.  ,  1.56],\n",
       "       [ 0.37,  1.53,  1.25,  0.84,  1.76],\n",
       "       [ 0.43,  0.11,  0.05,  0.26,  0.75],\n",
       "       [ 0.97,  0.91,  1.24,  1.6 ,  1.18],\n",
       "       [ 1.1 ,  1.13,  1.34,  1.47,  0.09],\n",
       "       [ 1.22,  1.79,  0.24,  1.72,  1.82],\n",
       "       [ 0.48,  0.39,  1.08,  1.67,  1.87],\n",
       "       [ 1.36,  1.83,  0.73,  1.35,  1.19],\n",
       "       [ 0.96,  1.64,  1.01,  1.03,  0.34],\n",
       "       [ 1.74,  1.22,  0.32,  1.71,  1.31],\n",
       "       [ 1.39,  1.14,  1.78,  1.57,  1.54],\n",
       "       [ 0.28,  0.76,  1.49,  0.58,  0.86]])"
      ]
     },
     "execution_count": 28,
     "metadata": {},
     "output_type": "execute_result"
    }
   ],
   "source": [
    "# A NumPy binary ufunc.\n",
    "nparr + nparr"
   ]
  },
  {
   "cell_type": "code",
   "execution_count": 29,
   "metadata": {
    "collapsed": false
   },
   "outputs": [
    {
     "data": {
      "text/plain": [
       "<DistArray(shape=(24, 5), targets=[0, 1, 2, 3, 4, 5, 6, 7, 8, 9, 10, 11, 12, 13, 14, 15, 16, 17, 18, 19, 20, 21, 22, 23])>"
      ]
     },
     "execution_count": 29,
     "metadata": {},
     "output_type": "execute_result"
    }
   ],
   "source": [
    "# The equivalent DistArray ufunc.\n",
    "# Notice that a new DistArray is created without\n",
    "# pulling data back to the client.\n",
    "darr + darr"
   ]
  },
  {
   "cell_type": "code",
   "execution_count": 30,
   "metadata": {
    "collapsed": false
   },
   "outputs": [
    {
     "data": {
      "text/plain": [
       "array([[ 1.74,  0.01,  1.45,  1.85,  1.74],\n",
       "       [ 0.04,  0.59,  1.11,  0.75,  0.49],\n",
       "       [ 0.74,  0.62,  1.08,  0.23,  0.39],\n",
       "       [ 1.05,  1.8 ,  0.31,  0.88,  0.92],\n",
       "       [ 1.33,  1.04,  0.42,  1.22,  0.29],\n",
       "       [ 1.27,  0.52,  0.51,  0.04,  0.19],\n",
       "       [ 1.22,  1.75,  0.46,  0.95,  0.1 ],\n",
       "       [ 1.95,  1.74,  0.76,  1.11,  1.53],\n",
       "       [ 0.79,  0.91,  0.65,  1.6 ,  1.72],\n",
       "       [ 0.14,  0.51,  1.47,  0.71,  1.84],\n",
       "       [ 0.68,  0.79,  0.2 ,  1.74,  0.46],\n",
       "       [ 0.91,  1.49,  1.66,  0.63,  0.34],\n",
       "       [ 0.13,  1.72,  1.  ,  1.  ,  1.56],\n",
       "       [ 0.37,  1.53,  1.25,  0.84,  1.76],\n",
       "       [ 0.43,  0.11,  0.05,  0.26,  0.75],\n",
       "       [ 0.97,  0.91,  1.24,  1.6 ,  1.18],\n",
       "       [ 1.1 ,  1.13,  1.34,  1.47,  0.09],\n",
       "       [ 1.22,  1.79,  0.24,  1.72,  1.82],\n",
       "       [ 0.48,  0.39,  1.08,  1.67,  1.87],\n",
       "       [ 1.36,  1.83,  0.73,  1.35,  1.19],\n",
       "       [ 0.96,  1.64,  1.01,  1.03,  0.34],\n",
       "       [ 1.74,  1.22,  0.32,  1.71,  1.31],\n",
       "       [ 1.39,  1.14,  1.78,  1.57,  1.54],\n",
       "       [ 0.28,  0.76,  1.49,  0.58,  0.86]])"
      ]
     },
     "execution_count": 30,
     "metadata": {},
     "output_type": "execute_result"
    }
   ],
   "source": [
    "# Contents of the resulting DistArray.\n",
    "(darr + darr).toarray()"
   ]
  },
  {
   "cell_type": "markdown",
   "metadata": {},
   "source": [
    "# Reductions"
   ]
  },
  {
   "cell_type": "code",
   "execution_count": 31,
   "metadata": {
    "collapsed": false
   },
   "outputs": [
    {
     "name": "stdout",
     "output_type": "stream",
     "text": [
      "sum: 60.3359638765\n",
      "sum over an axis: [ 3.4   1.49  1.53  2.48  2.15  1.27  2.24  3.55  2.84  2.33  1.94  2.52\n",
      "  2.7   2.88  0.8   2.95  2.57  3.4   2.74  3.23  2.49  3.15  3.71  1.98]\n"
     ]
    }
   ],
   "source": [
    "# NumPy sum\n",
    "print(\"sum:\", nparr.sum())\n",
    "print(\"sum over an axis:\", nparr.sum(axis=1))"
   ]
  },
  {
   "cell_type": "code",
   "execution_count": 32,
   "metadata": {
    "collapsed": false
   },
   "outputs": [
    {
     "name": "stdout",
     "output_type": "stream",
     "text": [
      "sum: <DistArray(shape=(), targets=[0])> 60.3359638765\n",
      "sum over an axis: <DistArray(shape=(24,), targets=[0, 1, 2, 3, 4, 5, 6, 7, 8, 9, 10, 11, 12, 13, 14, 15, 16, 17, 18, 19, 20, 21, 22, 23])> [ 3.4   1.49  1.53  2.48  2.15  1.27  2.24  3.55  2.84  2.33  1.94  2.52\n",
      "  2.7   2.88  0.8   2.95  2.57  3.4   2.74  3.23  2.49  3.15  3.71  1.98]\n"
     ]
    }
   ],
   "source": [
    "# DistArray sum\n",
    "print(\"sum:\", darr.sum(), darr.sum().toarray())\n",
    "print(\"sum over an axis:\", darr.sum(axis=1), darr.sum(axis=1).toarray())"
   ]
  },
  {
   "cell_type": "markdown",
   "metadata": {},
   "source": [
    "# Indexing and Slicing"
   ]
  },
  {
   "cell_type": "code",
   "execution_count": 34,
   "metadata": {
    "collapsed": false
   },
   "outputs": [
    {
     "data": {
      "text/plain": [
       "array([[ 0.87,  0.01,  0.72,  0.93,  0.87],\n",
       "       [ 0.02,  0.29,  0.55,  0.37,  0.25],\n",
       "       [ 0.37,  0.31,  0.54,  0.12,  0.2 ],\n",
       "       [ 0.53,  0.9 ,  0.15,  0.44,  0.46],\n",
       "       [ 0.67,  0.52,  0.21,  0.61,  0.14],\n",
       "       [ 0.64,  0.26,  0.25,  0.02,  0.1 ],\n",
       "       [ 0.61,  0.88,  0.23,  0.48,  0.05],\n",
       "       [ 0.98,  0.87,  0.38,  0.56,  0.76],\n",
       "       [ 0.4 ,  0.45,  0.33,  0.8 ,  0.86],\n",
       "       [ 0.07,  0.25,  0.73,  0.35,  0.92],\n",
       "       [ 0.34,  0.39,  0.1 ,  0.87,  0.23],\n",
       "       [ 0.46,  0.75,  0.83,  0.32,  0.17],\n",
       "       [ 0.06,  0.86,  0.5 ,  0.5 ,  0.78],\n",
       "       [ 0.19,  0.76,  0.63,  0.42,  0.88],\n",
       "       [ 0.21,  0.06,  0.03,  0.13,  0.37],\n",
       "       [ 0.49,  0.46,  0.62,  0.8 ,  0.59],\n",
       "       [ 0.55,  0.57,  0.67,  0.73,  0.05],\n",
       "       [ 0.61,  0.9 ,  0.12,  0.86,  0.91],\n",
       "       [ 0.24,  0.19,  0.54,  0.83,  0.93],\n",
       "       [ 0.68,  0.92,  0.37,  0.67,  0.59],\n",
       "       [ 0.48,  0.82,  0.51,  0.51,  0.17],\n",
       "       [ 0.87,  0.61,  0.16,  0.86,  0.65],\n",
       "       [ 0.69,  0.57,  0.89,  0.78,  0.77],\n",
       "       [ 0.14,  0.38,  0.74,  0.29,  0.43]])"
      ]
     },
     "execution_count": 34,
     "metadata": {},
     "output_type": "execute_result"
    }
   ],
   "source": [
    "# Our example array, as a reminder:\n",
    "darr.toarray()"
   ]
  },
  {
   "cell_type": "code",
   "execution_count": 35,
   "metadata": {
    "collapsed": false
   },
   "outputs": [
    {
     "data": {
      "text/plain": [
       "[(1, 5),\n",
       " (1, 5),\n",
       " (1, 5),\n",
       " (1, 5),\n",
       " (1, 5),\n",
       " (1, 5),\n",
       " (1, 5),\n",
       " (1, 5),\n",
       " (1, 5),\n",
       " (1, 5),\n",
       " (1, 5),\n",
       " (1, 5),\n",
       " (1, 5),\n",
       " (1, 5),\n",
       " (1, 5),\n",
       " (1, 5),\n",
       " (1, 5),\n",
       " (1, 5),\n",
       " (1, 5),\n",
       " (1, 5),\n",
       " (1, 5),\n",
       " (1, 5),\n",
       " (1, 5),\n",
       " (1, 5)]"
      ]
     },
     "execution_count": 35,
     "metadata": {},
     "output_type": "execute_result"
    }
   ],
   "source": [
    "# The shapes of the local sections of our DistArray\n",
    "darr.localshapes()"
   ]
  },
  {
   "cell_type": "code",
   "execution_count": 36,
   "metadata": {
    "collapsed": false
   },
   "outputs": [
    {
     "data": {
      "text/plain": [
       "0.72489182795044593"
      ]
     },
     "execution_count": 36,
     "metadata": {},
     "output_type": "execute_result"
    }
   ],
   "source": [
    "# Return the value of a single element\n",
    "darr[0, 2]"
   ]
  },
  {
   "cell_type": "code",
   "execution_count": 37,
   "metadata": {
    "collapsed": false
   },
   "outputs": [
    {
     "name": "stdout",
     "output_type": "stream",
     "text": [
      "<DistArray(shape=(24,), targets=[0, 1, 2, 3, 4, 5, 6, 7, 8, 9, 10, 11, 12, 13, 14, 15, 16, 17, 18, 19, 20, 21, 22, 23])>\n",
      "[ 0.93  0.37  0.12  0.44  0.61  0.02  0.48  0.56  0.8   0.35  0.87  0.32\n",
      "  0.5   0.42  0.13  0.8   0.73  0.86  0.83  0.67  0.51  0.86  0.78  0.29]\n"
     ]
    }
   ],
   "source": [
    "# Take a column slice\n",
    "darr_view = darr[:, 3]  # all rows, third column\n",
    "print(darr_view)\n",
    "print(darr_view.toarray())"
   ]
  },
  {
   "cell_type": "code",
   "execution_count": 38,
   "metadata": {
    "collapsed": false
   },
   "outputs": [
    {
     "name": "stdout",
     "output_type": "stream",
     "text": [
      "view:\n",
      "[ 0.93  0.37  0.12 -0.99  0.61  0.02  0.48  0.56  0.8   0.35  0.87  0.32\n",
      "  0.5   0.42  0.13  0.8   0.73  0.86  0.83  0.67  0.51  0.86  0.78  0.29]\n",
      "original:\n",
      "[[ 0.87  0.01  0.72  0.93  0.87]\n",
      " [ 0.02  0.29  0.55  0.37  0.25]\n",
      " [ 0.37  0.31  0.54  0.12  0.2 ]\n",
      " [ 0.53  0.9   0.15 -0.99  0.46]\n",
      " [ 0.67  0.52  0.21  0.61  0.14]\n",
      " [ 0.64  0.26  0.25  0.02  0.1 ]\n",
      " [ 0.61  0.88  0.23  0.48  0.05]\n",
      " [ 0.98  0.87  0.38  0.56  0.76]\n",
      " [ 0.4   0.45  0.33  0.8   0.86]\n",
      " [ 0.07  0.25  0.73  0.35  0.92]\n",
      " [ 0.34  0.39  0.1   0.87  0.23]\n",
      " [ 0.46  0.75  0.83  0.32  0.17]\n",
      " [ 0.06  0.86  0.5   0.5   0.78]\n",
      " [ 0.19  0.76  0.63  0.42  0.88]\n",
      " [ 0.21  0.06  0.03  0.13  0.37]\n",
      " [ 0.49  0.46  0.62  0.8   0.59]\n",
      " [ 0.55  0.57  0.67  0.73  0.05]\n",
      " [ 0.61  0.9   0.12  0.86  0.91]\n",
      " [ 0.24  0.19  0.54  0.83  0.93]\n",
      " [ 0.68  0.92  0.37  0.67  0.59]\n",
      " [ 0.48  0.82  0.51  0.51  0.17]\n",
      " [ 0.87  0.61  0.16  0.86  0.65]\n",
      " [ 0.69  0.57  0.89  0.78  0.77]\n",
      " [ 0.14  0.38  0.74  0.29  0.43]]\n"
     ]
    }
   ],
   "source": [
    "# Slices return a new DistArray that is a view on the\n",
    "# original, just like in NumPy.\n",
    "# Changes in the view change the original array.\n",
    "darr_view[3] = -0.99\n",
    "print(\"view:\")\n",
    "print(darr_view.toarray())\n",
    "\n",
    "print(\"original:\")\n",
    "print(darr.toarray())"
   ]
  },
  {
   "cell_type": "markdown",
   "metadata": {},
   "source": [
    "# Apply a function locally on the engines"
   ]
  },
  {
   "cell_type": "code",
   "execution_count": 44,
   "metadata": {
    "collapsed": false
   },
   "outputs": [
    {
     "data": {
      "text/plain": [
       "[0, 0, 3, 1, 2, 5, 3, 3, 3, 8, 1, 6, 8, 5, 0, 2, 9, 3, 0, 3, 4, 5, 9, 2]"
      ]
     },
     "execution_count": 44,
     "metadata": {},
     "output_type": "execute_result"
    }
   ],
   "source": [
    "def get_local_random():\n",
    "    import numpy\n",
    "    return numpy.random.randint(10)\n",
    "\n",
    "context.apply(get_local_random)"
   ]
  },
  {
   "cell_type": "code",
   "execution_count": 47,
   "metadata": {
    "collapsed": false
   },
   "outputs": [
    {
     "data": {
      "text/plain": [
       "[0.11755605095088388,\n",
       " 0.030054420890902666,\n",
       " 0.021387824159555407,\n",
       " 0.41595727885845263,\n",
       " 0.045465583701768196,\n",
       " 0.045421066055898865,\n",
       " 0.083444625785817392,\n",
       " 0.046641638164434424,\n",
       " 0.048537693617781034,\n",
       " 0.098297078461812598,\n",
       " 0.068134387401419721,\n",
       " 0.06298898608651278,\n",
       " 0.078211423006549291,\n",
       " 0.061310813490726902,\n",
       " 0.01550877075877195,\n",
       " 0.014699152827412281,\n",
       " 0.059271872176695495,\n",
       " 0.090602610143151407,\n",
       " 0.090289769783438584,\n",
       " 0.031082741899277677,\n",
       " 0.042367547027462239,\n",
       " 0.066371268417878299,\n",
       " 0.011504584078104079,\n",
       " 0.039948378423662161]"
      ]
     },
     "execution_count": 47,
     "metadata": {},
     "output_type": "execute_result"
    }
   ],
   "source": [
    "def get_local_var(darr):\n",
    "    \"\"\"Another local computation.\"\"\"\n",
    "    return darr.ndarray.var()\n",
    "\n",
    "context.apply(get_local_var, args=(darr.key,))"
   ]
  },
  {
   "cell_type": "markdown",
   "metadata": {},
   "source": [
    "# Register a function"
   ]
  },
  {
   "cell_type": "code",
   "execution_count": 51,
   "metadata": {
    "collapsed": true
   },
   "outputs": [],
   "source": [
    "def local_demean(la):\n",
    "    \"\"\"Return the local array with the mean removed.\"\"\"\n",
    "    return la.ndarray - la.ndarray.mean()\n",
    "context.register(local_demean)"
   ]
  },
  {
   "cell_type": "code",
   "execution_count": 53,
   "metadata": {
    "collapsed": false
   },
   "outputs": [
    {
     "data": {
      "text/plain": [
       "[array([[ 0.19, -0.67,  0.04,  0.25,  0.19]]),\n",
       " array([[-0.28, -0.  ,  0.26,  0.08, -0.05]]),\n",
       " array([[ 0.07,  0.  ,  0.23, -0.19, -0.11]]),\n",
       " array([[ 0.32,  0.69, -0.06, -1.2 ,  0.25]]),\n",
       " array([[ 0.24,  0.09, -0.22,  0.18, -0.29]]),\n",
       " array([[ 0.38,  0.01,  0.  , -0.24, -0.16]]),\n",
       " array([[ 0.16,  0.43, -0.22,  0.03, -0.4 ]]),\n",
       " array([[ 0.27,  0.16, -0.33, -0.15,  0.05]]),\n",
       " array([[-0.17, -0.11, -0.24,  0.23,  0.29]]),\n",
       " array([[-0.4 , -0.21,  0.27, -0.11,  0.45]]),\n",
       " array([[-0.04,  0.01, -0.29,  0.48, -0.16]]),\n",
       " array([[-0.05,  0.24,  0.33, -0.19, -0.34]]),\n",
       " array([[-0.48,  0.32, -0.04, -0.04,  0.24]]),\n",
       " array([[-0.39,  0.19,  0.05, -0.16,  0.31]]),\n",
       " array([[ 0.05, -0.1 , -0.13, -0.03,  0.21]]),\n",
       " array([[-0.1 , -0.13,  0.03,  0.21, -0.  ]]),\n",
       " array([[ 0.04,  0.05,  0.16,  0.22, -0.47]]),\n",
       " array([[-0.07,  0.22, -0.56,  0.18,  0.23]]),\n",
       " array([[-0.31, -0.36, -0.01,  0.29,  0.39]]),\n",
       " array([[ 0.03,  0.27, -0.28,  0.03, -0.05]]),\n",
       " array([[-0.02,  0.32,  0.01,  0.02, -0.33]]),\n",
       " array([[ 0.24, -0.02, -0.47,  0.23,  0.02]]),\n",
       " array([[-0.05, -0.17,  0.15,  0.04,  0.03]]),\n",
       " array([[-0.26, -0.02,  0.35, -0.11,  0.03]])]"
      ]
     },
     "execution_count": 53,
     "metadata": {},
     "output_type": "execute_result"
    }
   ],
   "source": [
    "context.local_demean(darr)"
   ]
  },
  {
   "cell_type": "code",
   "execution_count": null,
   "metadata": {
    "collapsed": true
   },
   "outputs": [],
   "source": []
  }
 ],
 "metadata": {
  "kernelspec": {
   "display_name": "Python 2",
   "language": "python",
   "name": "python2"
  },
  "language_info": {
   "codemirror_mode": {
    "name": "ipython",
    "version": 2
   },
   "file_extension": ".py",
   "mimetype": "text/x-python",
   "name": "python",
   "nbconvert_exporter": "python",
   "pygments_lexer": "ipython2",
   "version": "2.7.9"
  }
 },
 "nbformat": 4,
 "nbformat_minor": 0
}
